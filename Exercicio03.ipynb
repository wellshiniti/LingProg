{
 "cells": [
  {
   "cell_type": "markdown",
   "metadata": {},
   "source": [
    "1)Faça um Programa que peça dois números e imprima o maior\n",
    "deles."
   ]
  },
  {
   "cell_type": "code",
   "execution_count": null,
   "metadata": {},
   "outputs": [],
   "source": [
    "a = int(input('Digite o primeiro numero '))\n",
    "b = int(input('Digite o segundo numero '))\n",
    "lista = [a,b]\n",
    "print('O maior numero é ', max(lista))"
   ]
  },
  {
   "cell_type": "markdown",
   "metadata": {},
   "source": [
    "2)Faça um Programa que verifque se uma letra digitada é vogal ou\n",
    "consoante."
   ]
  },
  {
   "cell_type": "code",
   "execution_count": null,
   "metadata": {},
   "outputs": [],
   "source": [
    "vogais = 'aeiou'\n",
    "letra = input('Digite a letra')\n",
    "if letra in vogais:\n",
    "    print('Sim é uma vogal')\n",
    "else:\n",
    "    print('Nao é uma vogal')\n"
   ]
  },
  {
   "cell_type": "markdown",
   "metadata": {},
   "source": [
    "3)Faça um programa para a leitura de duas notas parciais de um\n",
    "aluno. O programa deve calcular a média alcançada por aluno e\n",
    "apresentar:\n",
    "- A mensagem \"Aprovado\", se a média alcançada for maior ou igual\n",
    "a sete;\n",
    "- A mensagem \"Reprovado\", se a média for menor do que sete;\n",
    "- A mensagem \"Aprovado com Distinção\", se a média for igual a\n",
    "dez."
   ]
  },
  {
   "cell_type": "code",
   "execution_count": null,
   "metadata": {},
   "outputs": [],
   "source": [
    "n1 = int(input('Primeira Nota: '))\n",
    "n2 = int(input('Segunda Nota: '))\n",
    "media = (n1 + n2)/2\n",
    "if media >= 7 and media < 10:\n",
    "    print('Aprovado','Nota: ', media)\n",
    "elif media < 7:\n",
    "    print('Reprovado','Nota: ', media)\n",
    "else:\n",
    "    print('Aprovado com Distinção ','Nota: ', media)\n"
   ]
  },
  {
   "cell_type": "markdown",
   "metadata": {},
   "source": [
    "4)Faça um Programa que leia três números e mostre-os em ordem\n",
    "decrescente."
   ]
  },
  {
   "cell_type": "code",
   "execution_count": null,
   "metadata": {},
   "outputs": [],
   "source": [
    "n1 = int(input('Primeiro Numero '))\n",
    "n2= int(input('Segundo Numero '))\n",
    "n3 = int(input('Terceiro Numero '))\n",
    "lista = [n1,n2,n3]\n",
    "lista.sort()\n",
    "print(lista[::-1])"
   ]
  },
  {
   "cell_type": "markdown",
   "metadata": {},
   "source": [
    "5)As Organizações Tabajara resolveram dar um aumento de salário\n",
    "aos seus colaboradores e lhe contrataram para desenvolver o\n",
    "programa que calculará os reajustes.\n",
    "Faça um programa que recebe o salário de um colaborador e o\n",
    "reajuste segundo o seguinte critério, baseado no salário atual:\n",
    "- salários até R$ 280,00 (incluindo) : aumento de 20%\n",
    "- salários entre R$ 280,00 e R$ 700,00 : aumento de 15%\n",
    "- salários entre R$ 700,00 e R$ 1500,00 : aumento de 10%\n",
    "- salários de R$ 1500,00 em diante : aumento de 5% Após o\n",
    "aumento ser realizado, informe na tela:\n",
    "- o salário antes do reajuste;\n",
    "- o percentual de aumento aplicado;\n",
    "- o valor do aumento;\n",
    "- o novo salário, após o aumento."
   ]
  },
  {
   "cell_type": "code",
   "execution_count": null,
   "metadata": {},
   "outputs": [],
   "source": [
    "salario = float(input('Digite o salario '))\n",
    "if salario <= 280.00:\n",
    "    aumento = ((salario/100)*20)\n",
    "    salarioNovo = salario + aumento\n",
    "    print('Salario antigo ', salario)\n",
    "    print('Percentual de aumento: 20%')\n",
    "    print('Valor do aumento ', aumento)\n",
    "    print('Salario novo ', salarioNovo)\n",
    "elif salario > 280.00 and salario < 700.00:\n",
    "    aumento = ((salario/100)*15)\n",
    "    salarioNovo = salario + aumento\n",
    "    print('Salario antigo ', salario)\n",
    "    print('Percentual de aumento: 15%')\n",
    "    print('Valor do aumento ', aumento)\n",
    "    print('Salario novo ', salarioNovo)\n",
    "elif salario >= 700.00 and salario < 1500.00:\n",
    "    aumento = ((salario/100)*10)\n",
    "    salarioNovo = salario + aumento\n",
    "    print('Salario antigo ', salario)\n",
    "    print('Percentual de aumento: 10%')\n",
    "    print('Valor do aumento ', aumento)\n",
    "    print('Salario novo ', salarioNovo)\n",
    "elif salario >= 1500.00:\n",
    "    aumento = ((salario/100)*5)\n",
    "    salarioNovo = salario + aumento\n",
    "    print('Salario antigo ', salario)\n",
    "    print('Percentual de aumento: 5%')\n",
    "    print('Valor do aumento ', aumento)\n",
    "    print('Salario novo ', salarioNovo)"
   ]
  },
  {
   "cell_type": "markdown",
   "metadata": {},
   "source": [
    "6)Faça um Programa que leia um número e exiba o dia\n",
    "correspondente da semana. (1-Domingo, 2- Segunda, etc.), se\n",
    "digitar outro valor deve aparecer valor inválido."
   ]
  },
  {
   "cell_type": "code",
   "execution_count": null,
   "metadata": {},
   "outputs": [],
   "source": [
    "lista = [0,'Domingo','Segunda','Terça','Quarta','Quinta','Sexta','Sabado']\n",
    "x = int(input('Digite o numero '))\n",
    "if x > 0 and x < 8:\n",
    "    print('O dia é',lista[x])\n",
    "else:\n",
    "    print('Voce digitou o valor errado')"
   ]
  },
  {
   "cell_type": "markdown",
   "metadata": {},
   "source": [
    "7)Faça um programa que lê as duas notas parciais obtidas por um\n",
    "aluno numa disciplina ao longo de um semestre, e calcule a sua\n",
    "média. A atribuição de conceitos obedece à tabela abaixo:\n",
    "Média de Aproveitamento Conceito\n",
    "Entre 9.0 e 10.0 A\n",
    "Entre 7.5 e 9.0 B\n",
    "Entre 6.0 e 7.5 C\n",
    "Entre 4.0 e 6.0 D\n",
    "Entre 4.0 e zero E\n",
    "O algoritmo deve mostrar na tela as notas, a média, o conceito\n",
    "correspondente e a mensagem “APROVADO” se o conceito for A, B\n",
    "ou C ou “REPROVADO” se o conceito for D ou E."
   ]
  },
  {
   "cell_type": "code",
   "execution_count": null,
   "metadata": {},
   "outputs": [],
   "source": [
    "n1 = float(input('Digite a primeira nota '))\n",
    "n2 = float(input('Digite a segunda nota '))\n",
    "media = (n1 + n2)/2\n",
    "if media >= 9.0 and media <= 10:\n",
    "    print('Nota um ', n1)\n",
    "    print('Nota dois ',n2)\n",
    "    print('Média ', media)\n",
    "    print('Conceito é A')\n",
    "    print('Aprovado')\n",
    "elif media >= 7.5 and media < 9.0:\n",
    "    print('Nota um ', n1)\n",
    "    print('Nota dois ',n2)\n",
    "    print('Média ', media)\n",
    "    print('Conceito é B')\n",
    "    print('Aprovado')\n",
    "elif media >= 6.0 and media < 7.5:\n",
    "    print('Nota um ', n1)\n",
    "    print('Nota dois ',n2)\n",
    "    print('Média ', media)\n",
    "    print('Conceito é C')\n",
    "    print('Aprovado')\n",
    "elif media >= 4.0 and media < 6.0:\n",
    "    print('Nota um ', n1)\n",
    "    print('Nota dois ',n2)\n",
    "    print('Média ', media)\n",
    "    print('Conceito é D')\n",
    "    print('Reprovado')\n",
    "else:\n",
    "    print('Nota um ', n1)\n",
    "    print('Nota dois ',n2)\n",
    "    print('Média ', media)\n",
    "    print('Conceito é E')\n",
    "    print('Reprovado')\n",
    "    "
   ]
  },
  {
   "cell_type": "markdown",
   "metadata": {},
   "source": [
    "8)Faça um Programa que peça os 3 lados de um triângulo. O\n",
    "programa deverá informar se os valores podem ser um triângulo.\n",
    "Indique, caso os lados formem um triângulo, se o mesmo é:\n",
    "equilátero, isósceles ou escaleno.\n",
    "Dicas:\n",
    "- Três lados formam um triângulo quando a soma de quaisquer dois\n",
    "lados for maior que o terceiro;\n",
    "- Triângulo Equilátero: três lados iguais;\n",
    "- Triângulo Isósceles: quaisquer dois lados iguais;\n",
    "- Triângulo Escaleno: três lados diferentes;"
   ]
  },
  {
   "cell_type": "code",
   "execution_count": null,
   "metadata": {},
   "outputs": [],
   "source": [
    "ladoum = int(input('Digite o valor do primeiro lado '))\n",
    "ladodois = int(input('Digite o valor do segundo lado '))\n",
    "ladotres = int(input('Digite o valor do terceiro lado '))\n",
    "ladoumdois = ladoum + ladodois\n",
    "ladoumtres = ladoum + ladotres\n",
    "ladotresdois = ladotres + ladodois\n",
    "\n",
    "if ladoumdois > ladotres or ladoumtres > ladodois or ladotresdois > ladoum:\n",
    "    if ladoum == ladodois and ladodois == ladotres:\n",
    "        print('O Triangulo é equilatero ', ladoum, ladodois, ladotres)\n",
    "    elif ladoum == ladodois or ladoum == ladotres or ladodois == ladotres:\n",
    "        print('O Triangulo é Isosceles ', ladoum, ladodois, ladotres)\n",
    "    elif ladoum != ladodois and ladoum != ladotres and ladodois != ladotres:\n",
    "        print('O Triangulo é Escaleno', ladoum, ladodois, ladotres)\n",
    "else:\n",
    "    print('Os valores informados não podem ser um triangulo')"
   ]
  },
  {
   "cell_type": "markdown",
   "metadata": {},
   "source": [
    "9)Faça um programa que calcule as raízes de uma equação do\n",
    "segundo grau, na forma ax2 + bx + c. O programa deverá pedir os\n",
    "valores de a, b e c e fazer as consistências, informando ao usuário\n",
    "nas seguintes situações:\n",
    "- Se o usuário informar o valor de A igual a zero, a equação não é do\n",
    "segundo grau e o programa não deve fazer pedir os demais valores,\n",
    "sendo encerrado;\n",
    "- Se o delta calculado for negativo, a equação não possui raizes\n",
    "reais. Informe ao usuário e encerre o programa;\n",
    "- Se o delta calculado for igual a zero a equação possui apenas uma\n",
    "raiz real; informe-a ao usuário;\n",
    "- Se o delta for positivo, a equação possui duas raiz reais; informeas\n",
    "ao usuário;"
   ]
  },
  {
   "cell_type": "code",
   "execution_count": null,
   "metadata": {},
   "outputs": [],
   "source": [
    "a = float(input(\"Digite o valor de a: \"))\n",
    "\n",
    "if(a != 0):\n",
    "   b = float(input(\"Digite o valor de b: \"))\n",
    "   c = float(input(\"Digite o valor de c: \"))\n",
    "   delta = (b**2) - 4 * a * c\n",
    "   if(delta < 0):\n",
    "       print(\"O delta deu negativo, não existe raizes\")\n",
    "   elif(delta==0):\n",
    "       x = (-b+delta)/(2*a)\n",
    "       print(\"O delta deu igual à 0(ZERO) então possui apenas uma raíz, a raiz é: \", x)\n",
    "   else:\n",
    "        x1 = (-b+delta)/(2*a)\n",
    "        x2 = (-b-delta)/(2*a)\n",
    "        print(\"x1 = \",x1, \"x2\",x2)\n",
    "        \n",
    "else:\n",
    "    print(\"O valor de a não pode ser 0 (ZERO)\")"
   ]
  },
  {
   "cell_type": "markdown",
   "metadata": {},
   "source": [
    "10)Faça um Programa para um caixa eletrônico. O programa\n",
    "deverá perguntar ao usuário a valor do saque e depois informar\n",
    "quantas notas de cada valor serão fornecidas. As notas disponíveis\n",
    "serão as de 1, 5, 10, 50 e 100 reais. O valor mínimo é de 10 reais e\n",
    "o máximo de 600 reais. O programa não deve se preocupar com a\n",
    "quantidade de notas existentes na máquina.\n",
    "saque- Exemplo 1: Para sacar a quantia de 256 reais, o programa fornece\n",
    "duas notas de 100, uma nota de 50, uma nota de 5 e uma nota de\n",
    "1;\n",
    "- Exemplo 2: Para sacar a quantia de 399 reais, o programa fornece\n",
    "três notas de 100, uma nota de 50, quatro notas de 10, uma nota de\n",
    "5 e quatro notas de 1."
   ]
  },
  {
   "cell_type": "code",
   "execution_count": null,
   "metadata": {},
   "outputs": [],
   "source": [
    "saque = int (input('Quanto voce quer sacar?'))\n",
    "if saque >= 10 and saque <= 600:\n",
    "    n100 = saque // 100\n",
    "    r100 = saque % 100\n",
    "    n50 = r100 // 50\n",
    "    r50 = r100 % 50\n",
    "    n10 = r50 // 10\n",
    "    r10 = r50 % 10\n",
    "    n5 = r10 // 5\n",
    "    r5 = r10 % 5\n",
    "    n1 = r5 // 1\n",
    "    print(n100, n50, n10, n5, n1)\n",
    "else:\n",
    "    print('nao vai rolar')"
   ]
  },
  {
   "cell_type": "markdown",
   "metadata": {},
   "source": [
    "11)Faça um programa que faça 5 perguntas para uma pessoa\n",
    "sobre um crime. As perguntas são:\n",
    "\"Telefonou para a vítima?\"\n",
    "\"Esteve no local do crime?\"\n",
    "\"Mora perto da vítima?\"\n",
    "\"Devia para a vítima?\"\n",
    "\"Já trabalhou com a vítima?\"\n",
    "O programa deve no fnal emitir uma classifcação sobre a\n",
    "participação da pessoa no crime. Se a pessoa responder\n",
    "positivamente a 2 questões ela deve ser classifcada como\n",
    "\"Suspeita\", entre 3 e 4 como \"Cúmplice\" e 5 como \"Assassino\". Caso\n",
    "contrário, ele será classifcado como \"Inocente\"."
   ]
  },
  {
   "cell_type": "code",
   "execution_count": null,
   "metadata": {},
   "outputs": [],
   "source": [
    "um = input('Telefonou para a vitima? ')\n",
    "dois = input('Esteve no local do crime? ')\n",
    "tres = input('Mora perto da vitima? ')\n",
    "quatro = input('Devia para a vitima? ')\n",
    "cinco = input('Já trabalhou com a vitima? ')\n",
    "classificacao = 0\n",
    "\n",
    "if um == 'sim':\n",
    "    classificacao = classificacao + 1\n",
    "if dois == 'sim':\n",
    "    classificacao = classificacao + 1\n",
    "if tres == 'sim':\n",
    "    classificacao = classificacao + 1\n",
    "if quatro == 'sim':\n",
    "    classificacao = classificacao + 1\n",
    "if cinco == 'sim':\n",
    "    classificacao = classificacao + 1\n",
    "if classificacao == 2:\n",
    "    print('Voce é suspeito(a) ')\n",
    "    print(classificacao)\n",
    "elif classificacao >= 3 and classificacao <= 4:\n",
    "    print('Voce é cumplice')\n",
    "    print(classificacao)\n",
    "elif classificacao == 5:\n",
    "    print('Voce é o assasino!!!1!111!')\n",
    "    print(classificacao)\n",
    "else:\n",
    "    print('Voce é inocente jovem')\n",
    "    print(classificacao)"
   ]
  },
  {
   "cell_type": "markdown",
   "metadata": {},
   "source": [
    "12) Uma fruteira está vendendo frutas com a seguinte tabela de\n",
    "preços:\n",
    "Até 5 Kg Acima de 5 Kg\n",
    "Morango R$ 2,50 por Kg R$ 2,20 por Kg\n",
    "Maçã R$ 1,80 por Kg R$ 1,50 por Kg\n",
    "Se o cliente comprar mais de 8 Kg em frutas ou o valor total da\n",
    "compra ultrapassar R$ 25,00, receberá ainda um desconto de 10%\n",
    "sobre este total. Escreva um algoritmo para ler a quantidade (em\n",
    "Kg) de morangos e a quantidade (em Kg) de maças adquiridas e\n",
    "escreva o valor a ser pago pelo cliente."
   ]
  },
  {
   "cell_type": "code",
   "execution_count": null,
   "metadata": {},
   "outputs": [],
   "source": [
    "Morango = 2.5\n",
    "Maca = 1.8\n",
    "Mokilo = float(input('Digite a quantidade de Morangos (Kg) '))\n",
    "Makilo = float(input('Digite a quantidade de Maçã (Kg) '))\n",
    "Kilototal = Mokilo + Makilo\n",
    "ValorMo = Morango * Mokilo\n",
    "ValorMa = Maca * Makilo\n",
    "ValorTotal = ValorMo + ValorMa\n",
    "\n",
    "if Mokilo > 5 or Makilo > 5:\n",
    "    Morango = 2.20\n",
    "    Maca = 1.50\n",
    "    ValorMo = Morango * Mokilo\n",
    "    ValorMa = Maca * Makilo\n",
    "    ValorTotal = ValorMo + ValorMa\n",
    "    print('Valor total acima de 5kg ', ValorTotal)\n",
    "    if Kilototal >= 8 or ValorTotal > 25.00:\n",
    "        ValorTotal = ValorTotal - ((ValorTotal/100) * 10)\n",
    "        print('Valor total com desconto ', ValorTotal)\n",
    "else:\n",
    "    print('Valor total ', ValorTotal)\n",
    "\n"
   ]
  },
  {
   "cell_type": "markdown",
   "metadata": {},
   "source": [
    "13) Faça um programa que peça uma nota, entre zero e dez. Mostre\n",
    "uma mensagem caso o valor seja inválido e continue pedindo até\n",
    "que o usuário informe um valor válido."
   ]
  },
  {
   "cell_type": "code",
   "execution_count": null,
   "metadata": {},
   "outputs": [],
   "source": [
    "nota = float(input(\"Digite uma nota entre 0(ZERO) e 10: \"))\n",
    "if((nota>= 0) and (nota <= 10)):\n",
    "    print(\"nota:\", nota)\n",
    "else:\n",
    "    while True:\n",
    "        nota = float(input(\"Valor inválido! Digite de novo um valor entre 0(ZERO) e 10: \"))\n",
    "        if((nota>= 0) and (nota <= 10)):\n",
    "            print(\"nota:\", nota)\n",
    "            break"
   ]
  },
  {
   "cell_type": "markdown",
   "metadata": {},
   "source": [
    "13 B)Faça um programa que leia e valide as seguintes informações:\n",
    "Nome: maior que 3 caracteres;\n",
    "Idade: entre 0 e 150;\n",
    "Salário: maior que zero;\n",
    "Sexo: 'f' ou 'm';\n",
    "Estado Civil: 's', 'c', 'v', 'd';"
   ]
  },
  {
   "cell_type": "code",
   "execution_count": null,
   "metadata": {},
   "outputs": [],
   "source": [
    "nome = input(\"digite seu nome: \")\n",
    "idade = int(input(\"Digite sua idade: \"))\n",
    "sexo = input(\"Digite  'f' para feminino ou 'm' para masculino:\")\n",
    "estadoCivil = input(\"Digite  's' para solteiro ou 'c' para casado ou 'v' para viuvo ou 'd' para divorciado:\")\n",
    "\n",
    "if(len(nome) > 3):\n",
    "    print(\"Nome:\",nome)\n",
    "else:\n",
    "    print(\"O nome deve conter mais de 3 caracteres\")\n",
    "    \n",
    "if(idade >= 0 and idade <= 150):\n",
    "    print(\"Idade:\", idade)\n",
    "else:\n",
    "    print(\"Valor de idade incorreta\")\n",
    "\n",
    "if(sexo == 'f'):\n",
    "    print(\"Sexo:Feminino\")\n",
    "elif(sexo == 'm'):\n",
    "    print(\"Sexo: Masculino\")\n",
    "else:\n",
    "    print(\"Não correspondente a nenuma das opções..\")\n",
    "\n",
    "if(estadoCivil == 's'):\n",
    "    print(\"Estado civil :Solteiro\")\n",
    "elif(estadoCivil == 'c'):\n",
    "    print(\"Estado civil: Casado\")\n",
    "elif(estadoCivil == 'v'):\n",
    "    print(\"Estado civil: Viuvo\")\n",
    "elif(estadoCivil == 'd'):\n",
    "    print(\"Estado civil: Divorciado\")\n",
    "else:\n",
    "    print(\"Não correspondente a nenuma das opções..\")"
   ]
  },
  {
   "cell_type": "markdown",
   "metadata": {},
   "source": [
    "14)Faça um programa que leia 5 números e informe o maior\n",
    "número."
   ]
  },
  {
   "cell_type": "code",
   "execution_count": null,
   "metadata": {},
   "outputs": [],
   "source": [
    "x = 0\n",
    "lista = []\n",
    "while x < 5:\n",
    "    z = int(input('Digite o valor '))\n",
    "    lista.append(z)\n",
    "    x = x + 1\n",
    "print('O maior numero é ', max(lista))"
   ]
  },
  {
   "cell_type": "markdown",
   "metadata": {},
   "source": [
    "15)Faça um programa que leia 5 números e informe a soma e a\n",
    "média dos números."
   ]
  },
  {
   "cell_type": "code",
   "execution_count": null,
   "metadata": {},
   "outputs": [],
   "source": [
    "x = 0\n",
    "list_sum = 0\n",
    "lista = []\n",
    "while x < 5:\n",
    "    z = int(input('Digite o valor '))\n",
    "    lista.append(z)\n",
    "    x = x + 1\n",
    "    \n",
    "for num in lista:\n",
    "    list_sum += num\n",
    "    media = list_sum / 5\n",
    "print(f'A soma é {list_sum}')\n",
    "print(f'A media é {media}')"
   ]
  },
  {
   "cell_type": "markdown",
   "metadata": {},
   "source": [
    "16) Faça um programa que imprima na tela apenas os números\n",
    "ímpares entre 1 e 50."
   ]
  },
  {
   "cell_type": "code",
   "execution_count": null,
   "metadata": {},
   "outputs": [],
   "source": [
    "x = 0\n",
    "z = 0\n",
    "lista = []\n",
    "while x < 50:\n",
    "    z = z + 1\n",
    "    lista.append(z)\n",
    "    x = x + 1\n",
    "for num in lista:\n",
    "    if num%2 != 0:\n",
    "        print(num)\n",
    "    "
   ]
  },
  {
   "cell_type": "markdown",
   "metadata": {},
   "source": [
    "17) Desenvolva um gerador de tabuada, capaz de gerar a tabuada\n",
    "de qualquer número inteiro entre 1 a 10. O usuário deve informar\n",
    "de qual numero ele deseja ver a tabuada. A saída deve ser\n",
    "conforme o exemplo abaixo:\n",
    "Tabuada de 5:\n",
    "5 X 1 = 5\n",
    "5 X 2 = 10\n",
    "...\n",
    "5 X 10 = 50"
   ]
  },
  {
   "cell_type": "code",
   "execution_count": null,
   "metadata": {},
   "outputs": [],
   "source": [
    "n = int(input(\"Digite o valor da tabuada: \"))\n",
    "x = 1\n",
    "while x <= 10:\n",
    "     print(n,'X',x, '=', n*x)\n",
    "     x = x + 1"
   ]
  },
  {
   "cell_type": "markdown",
   "metadata": {},
   "source": [
    "18) A série de Fibonacci é formada pela seqüência\n",
    "1,1,2,3,5,8,13,21,34,55,... Faça um programa capaz de gerar a série\n",
    "até o n−ésimo termo."
   ]
  },
  {
   "cell_type": "code",
   "execution_count": null,
   "metadata": {},
   "outputs": [],
   "source": [
    "[i,j] = [0,1]\n",
    "\n",
    "f = int(input(\"Digite o termo no qual deseja parar: \"))\n",
    "print(\"\\nA Sequência de Fibonacci até o \",f,\"º termo é:\\n\\n\")\n",
    "\n",
    "for n in range(0,f):\n",
    "  k = i + j\n",
    "  if (n!=f-1):\n",
    "    print(k,end=', ')\n",
    "  else:\n",
    "    print(k,end='.')\n",
    "  j=i\n",
    "  i=k"
   ]
  },
  {
   "cell_type": "markdown",
   "metadata": {},
   "source": [
    "19)Faça um programa que calcule o fatorial de um número inteiro\n",
    "fornecido pelo usuário. Ex.: 5!=5.4.3.2.1=120"
   ]
  },
  {
   "cell_type": "code",
   "execution_count": null,
   "metadata": {},
   "outputs": [],
   "source": [
    "n = int(input(\"Digite o valor de n: \"))\n",
    " \n",
    " \n",
    "fatorial = 1\n",
    " \n",
    "while (n > 0):\n",
    "    fatorial = fatorial * n\n",
    "    n -= 1\n",
    " \n",
    "print(fatorial)"
   ]
  },
  {
   "cell_type": "markdown",
   "metadata": {},
   "source": [
    "20)O Sr. Manoel Joaquim possui uma grande loja de artigos de R$\n",
    "1,99, com cerca de 10 caixas. Para agilizar o cálculo de quanto cada\n",
    "cliente deve pagar ele desenvolveu um tabela que contém o\n",
    "número de itens que o cliente comprou e ao lado o valor da conta.\n",
    "Desta forma a atendente do caixa precisa apenas contar quantos\n",
    "itens o cliente está levando e olhar na tabela de preços. Você foi\n",
    "contratado para desenvolver o programa que monta esta tabela de\n",
    "preços, que conterá os preços de 1 até 50 produtos, conforme o\n",
    "exemplo abaixo:\n",
    "\n",
    "Lojas Quase Dois - Tabela de preços\n",
    "1 - R$ 1.99\n",
    "2 - R$ 3.98\n",
    "...\n",
    "50 - R$ 99.50"
   ]
  },
  {
   "cell_type": "code",
   "execution_count": null,
   "metadata": {},
   "outputs": [],
   "source": [
    "x = 0\n",
    "z = 0\n",
    "y = 1.99\n",
    "lista = []\n",
    "while x < 50:\n",
    "    z = z + 1\n",
    "    lista.append(z)\n",
    "    x = x + 1\n",
    "for num in lista:\n",
    "        print(f'{num} - R$', round(y, 2))\n",
    "        y += 1.99"
   ]
  },
  {
   "cell_type": "markdown",
   "metadata": {},
   "source": [
    "21) O Sr. Manoel Joaquim acaba de adquirir uma panifcadora e\n",
    "pretende implantar a metodologia da tabelinha, que já é um\n",
    "sucesso na sua loja de 1,99. Você foi contratado para desenvolver o\n",
    "programa que monta a tabela de preços de pães, de 1 até 50 pães,\n",
    "a partir do preço do pão informado pelo usuário, conforme o\n",
    "exemplo abaixo:\n",
    "\n",
    "Preço do pão: R$ 0.18\n",
    "Panificadora Pão de Ontem - Tabela de preços\n",
    "1 - R$ 0.18\n",
    "2 - R$ 0.36\n",
    "...\n",
    "50 - R$ 9.00"
   ]
  },
  {
   "cell_type": "code",
   "execution_count": null,
   "metadata": {},
   "outputs": [],
   "source": [
    "precoDoPao = float(input(\"Digite o preço: \"))\n",
    "x = 0\n",
    "z = 0\n",
    "precoDoPaoUnidade = 0.18\n",
    "lista = []\n",
    "while x < 50:\n",
    "    z = z + 1\n",
    "    lista.append(z)\n",
    "    x = x + 1\n",
    "for num in lista:\n",
    "        print(f'{num} - R$', round(precoDoPaoUnidade, 2))\n",
    "        precoDoPaoUnidade += 0.18\n",
    "qntDoPao = int(precoDoPao / 0.18)\n",
    "print(\"Quantidade de pães:\", qntDoPao)"
   ]
  },
  {
   "cell_type": "markdown",
   "metadata": {},
   "source": [
    "22) O Sr. Manoel Joaquim expandiu seus negócios para além dos\n",
    "negócios de 1,99 e agora possui uma loja de conveniências. Faça\n",
    "um programa que implemente uma caixa registradora rudimentar.\n",
    "O programa deverá receber um número desconhecido de valores\n",
    "referentes aos preços das mercadorias. Um valor zero deve ser\n",
    "informado pelo operador para indicar o fnal da compra. O programa\n",
    "deve então mostrar o total da compra e perguntar o valor em\n",
    "dinheiro que o cliente forneceu, para então calcular e mostrar o\n",
    "valor do troco. Após esta operação, o programa deverá voltar ao\n",
    "ponto inicial, para registrar a próxima compra. A saída deve ser\n",
    "conforme o exemplo abaixo\n",
    "\n",
    "Lojas Tabajara\n",
    "Produto 1: R$ 2.20\n",
    "Produto 2: R$ 5.80\n",
    "Produto 3: R$ 0\n",
    "Total: R$ 9.00\n",
    "Dinheiro: R$ 20.00\n",
    "Troco: R$ 11.00\n",
    "..."
   ]
  },
  {
   "cell_type": "code",
   "execution_count": null,
   "metadata": {},
   "outputs": [],
   "source": [
    "prod = []\n",
    "num = 1\n",
    "while True:\n",
    "    preco = float(input(f\"Digite o preço do Produto {num}: R$\"))\n",
    "    if preco > 0:\n",
    "        num += 1\n",
    "        prod.append(preco)\n",
    "    else:\n",
    "        print(\"Teste\")\n",
    "        break\n",
    "#print(prod)\n",
    "print(\"O total da compra foi: R$\",sum(prod))\n",
    "pag = float(input(\"Digite a quantia de dinheiro que irá usar para pagar. R$\"))\n",
    "print(\"Troco da compra será: R$\", pag-sum(prod))\n",
    "\n",
    "    "
   ]
  },
  {
   "cell_type": "markdown",
   "metadata": {},
   "source": [
    "24)Faça um programa que receba o valor de uma dívida e mostre\n",
    "uma tabela com os seguintes dados: valor da dívida, valor dos juros,\n",
    "quantidade de parcelas e valor da parcela.\n",
    "Os juros e a quantidade de parcelas seguem a tabela abaixo:\n",
    "Quantidade de Parcelas % de Juros sobre o valor inicial da dívida\n",
    "\n",
    "1 0\n",
    "3 10\n",
    "6 15\n",
    "9 20\n",
    "12 25\n",
    "Exemplo de saída do programa:\n",
    "Valor da Dívida Valor dos Juros Quantidade de Parcelas Valor da Parcela\n",
    "R$ 1.000,00 0 1 R$ 1.000,00\n",
    "R$ 1.100,00 100 3 R$ 366,00\n",
    "R$ 1.150,00 150 6 R$ 191,67"
   ]
  },
  {
   "cell_type": "code",
   "execution_count": 4,
   "metadata": {},
   "outputs": [
    {
     "name": "stdout",
     "output_type": "stream",
     "text": [
      "Valor da divida:1000\n",
      "['Valor da Dívida', 'Valor dos Juros', 'Quantidade de Parcelas', 'Valor da Parcela']\n",
      "[1000.0, 0, 1, 1000.0]\n",
      "[1100.0, 100.0, 3, 333.33]\n",
      "[1150.0, 150.0, 6, 166.67]\n",
      "[1200.0, 200.0, 9, 111.11]\n",
      "[1250.0, 250.0, 12, 83.33]\n"
     ]
    }
   ],
   "source": [
    "\n",
    "divida = float(input('Valor da divida:'))\n",
    "pUm = divida\n",
    "ptres = round((divida / 3),2)\n",
    "pseis = round((divida / 6),2)\n",
    "pnove = round((divida / 9),2)\n",
    "pdoze = round((divida / 12),2)\n",
    "jum = 0\n",
    "jtres = round(((divida/100)*10),2)\n",
    "jseis = round(((divida/100)*15),2)\n",
    "jnove = round(((divida/100)*20),2)\n",
    "jdoze = round(((divida/100)*25),2)\n",
    "pcum = [divida,jum,1,pUm]\n",
    "pctres = [divida+jtres,jtres,3,ptres]\n",
    "pcseis = [divida+jseis,jseis,6,pseis]\n",
    "pcnove = [divida+jnove,jnove,9,pnove]\n",
    "pcdoze = [divida+jdoze,jdoze,12,pdoze]\n",
    "header = ['Valor da Dívida','Valor dos Juros','Quantidade de Parcelas','Valor da Parcela']\n",
    "a = [header],[pcum],[pctres],[pcseis],[pcnove],[pcdoze]\n",
    "\n",
    "print('\\n'.join(['\\t'.join([str(cell) for cell in row]) for row in a]))"
   ]
  },
  {
   "cell_type": "markdown",
   "metadata": {},
   "source": [
    "# "
   ]
  }
 ],
 "metadata": {
  "kernelspec": {
   "display_name": "Python 3",
   "language": "python",
   "name": "python3"
  },
  "language_info": {
   "codemirror_mode": {
    "name": "ipython",
    "version": 3
   },
   "file_extension": ".py",
   "mimetype": "text/x-python",
   "name": "python",
   "nbconvert_exporter": "python",
   "pygments_lexer": "ipython3",
   "version": "3.6.5"
  }
 },
 "nbformat": 4,
 "nbformat_minor": 2
}
