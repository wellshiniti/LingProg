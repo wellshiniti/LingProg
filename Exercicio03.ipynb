{
 "cells": [
  {
   "cell_type": "markdown",
   "metadata": {},
   "source": [
    "1)Faça um Programa que peça dois números e imprima o maior\n",
    "deles."
   ]
  },
  {
   "cell_type": "code",
   "execution_count": null,
   "metadata": {},
   "outputs": [],
   "source": [
    "a = int(input('Digite o primeiro numero '))\n",
    "b = int(input('Digite o segundo numero '))\n",
    "lista = [a,b]\n",
    "print('O maior numero é ', max(lista))"
   ]
  },
  {
   "cell_type": "markdown",
   "metadata": {},
   "source": [
    "2)Faça um Programa que verifque se uma letra digitada é vogal ou\n",
    "consoante."
   ]
  },
  {
   "cell_type": "code",
   "execution_count": null,
   "metadata": {},
   "outputs": [],
   "source": [
    "x = input('Digite a letra desejada ')\n",
    "if x == 'a' or x == 'e' or x == 'i' or x == 'o' or x == 'u':\n",
    "    print('A letra digitada é vogal ', x)\n",
    "else:\n",
    "    print('A letra digitada é consoante ', x)"
   ]
  },
  {
   "cell_type": "markdown",
   "metadata": {},
   "source": [
    "3)Faça um programa para a leitura de duas notas parciais de um\n",
    "aluno. O programa deve calcular a média alcançada por aluno e\n",
    "apresentar:\n",
    "- A mensagem \"Aprovado\", se a média alcançada for maior ou igual\n",
    "a sete;\n",
    "- A mensagem \"Reprovado\", se a média for menor do que sete;\n",
    "- A mensagem \"Aprovado com Distinção\", se a média for igual a\n",
    "dez."
   ]
  },
  {
   "cell_type": "code",
   "execution_count": null,
   "metadata": {},
   "outputs": [],
   "source": [
    "n1 = int(input('Primeira Nota: '))\n",
    "n2 = int(input('Segunda Nota: '))\n",
    "media = (n1 + n2)/2\n",
    "if media >= 7 and media < 10:\n",
    "    print('Aprovado','Nota: ', media)\n",
    "elif media < 7:\n",
    "    print('Reprovado','Nota: ', media)\n",
    "else:\n",
    "    print('Aprovado com Distinção ','Nota: ', media)\n"
   ]
  },
  {
   "cell_type": "markdown",
   "metadata": {},
   "source": [
    "4)Faça um Programa que leia três números e mostre-os em ordem\n",
    "decrescente."
   ]
  },
  {
   "cell_type": "code",
   "execution_count": null,
   "metadata": {},
   "outputs": [],
   "source": [
    "n1 = int(input('Primeiro Numero '))\n",
    "n2= int(input('Segundo Numero '))\n",
    "n3 = int(input('Terceiro Numero '))\n",
    "lista = [n1,n2,n3]\n",
    "lista.sort()\n",
    "print(lista[::-1])"
   ]
  },
  {
   "cell_type": "markdown",
   "metadata": {},
   "source": [
    "5)As Organizações Tabajara resolveram dar um aumento de salário\n",
    "aos seus colaboradores e lhe contrataram para desenvolver o\n",
    "programa que calculará os reajustes.\n",
    "Faça um programa que recebe o salário de um colaborador e o\n",
    "reajuste segundo o seguinte critério, baseado no salário atual:\n",
    "- salários até R$ 280,00 (incluindo) : aumento de 20%\n",
    "- salários entre R$ 280,00 e R$ 700,00 : aumento de 15%\n",
    "- salários entre R$ 700,00 e R$ 1500,00 : aumento de 10%\n",
    "- salários de R$ 1500,00 em diante : aumento de 5% Após o\n",
    "aumento ser realizado, informe na tela:\n",
    "- o salário antes do reajuste;\n",
    "- o percentual de aumento aplicado;\n",
    "- o valor do aumento;\n",
    "- o novo salário, após o aumento."
   ]
  },
  {
   "cell_type": "code",
   "execution_count": null,
   "metadata": {},
   "outputs": [],
   "source": [
    "salario = float(input('Digite o salario '))\n",
    "if salario <= 280.00:\n",
    "    aumento = ((salario/100)*20)\n",
    "    salarioNovo = salario + aumento\n",
    "    print('Salario antigo ', salario)\n",
    "    print('Percentual de aumento: 20%')\n",
    "    print('Valor do aumento ', aumento)\n",
    "    print('Salario novo ', salarioNovo)\n",
    "elif salario > 280.00 and salario < 700.00:\n",
    "    aumento = ((salario/100)*15)\n",
    "    salarioNovo = salario + aumento\n",
    "    print('Salario antigo ', salario)\n",
    "    print('Percentual de aumento: 15%')\n",
    "    print('Valor do aumento ', aumento)\n",
    "    print('Salario novo ', salarioNovo)\n",
    "elif salario >= 700.00 and salario < 1500.00:\n",
    "    aumento = ((salario/100)*10)\n",
    "    salarioNovo = salario + aumento\n",
    "    print('Salario antigo ', salario)\n",
    "    print('Percentual de aumento: 10%')\n",
    "    print('Valor do aumento ', aumento)\n",
    "    print('Salario novo ', salarioNovo)\n",
    "elif salario >= 1500.00:\n",
    "    aumento = ((salario/100)*5)\n",
    "    salarioNovo = salario + aumento\n",
    "    print('Salario antigo ', salario)\n",
    "    print('Percentual de aumento: 5%')\n",
    "    print('Valor do aumento ', aumento)\n",
    "    print('Salario novo ', salarioNovo)"
   ]
  },
  {
   "cell_type": "markdown",
   "metadata": {},
   "source": [
    "6)Faça um Programa que leia um número e exiba o dia\n",
    "correspondente da semana. (1-Domingo, 2- Segunda, etc.), se\n",
    "digitar outro valor deve aparecer valor inválido."
   ]
  },
  {
   "cell_type": "code",
   "execution_count": null,
   "metadata": {},
   "outputs": [],
   "source": [
    "lista = [0,'Domingo','Segunda','Terça','Quarta','Quinta','Sexta','Sabado']\n",
    "x = int(input('Digite o numero '))\n",
    "if x > 0 and x < 8:\n",
    "    print('O dia é',lista[x])\n",
    "else:\n",
    "    print('Voce digitou o valor errado')"
   ]
  },
  {
   "cell_type": "markdown",
   "metadata": {},
   "source": [
    "7)Faça um programa que lê as duas notas parciais obtidas por um\n",
    "aluno numa disciplina ao longo de um semestre, e calcule a sua\n",
    "média. A atribuição de conceitos obedece à tabela abaixo:\n",
    "Média de Aproveitamento Conceito\n",
    "Entre 9.0 e 10.0 A\n",
    "Entre 7.5 e 9.0 B\n",
    "Entre 6.0 e 7.5 C\n",
    "Entre 4.0 e 6.0 D\n",
    "Entre 4.0 e zero E\n",
    "O algoritmo deve mostrar na tela as notas, a média, o conceito\n",
    "correspondente e a mensagem “APROVADO” se o conceito for A, B\n",
    "ou C ou “REPROVADO” se o conceito for D ou E."
   ]
  },
  {
   "cell_type": "code",
   "execution_count": null,
   "metadata": {},
   "outputs": [],
   "source": [
    "n1 = float(input('Digite a primeira nota '))\n",
    "n2 = float(input('Digite a segunda nota '))\n",
    "media = (n1 + n2)/2\n",
    "if media >= 9.0 and media <= 10:\n",
    "    print('Nota um ', n1)\n",
    "    print('Nota dois ',n2)\n",
    "    print('Média ', media)\n",
    "    print('Conceito é A')\n",
    "    print('Aprovado')\n",
    "elif media >= 7.5 and media < 9.0:\n",
    "    print('Nota um ', n1)\n",
    "    print('Nota dois ',n2)\n",
    "    print('Média ', media)\n",
    "    print('Conceito é B')\n",
    "    print('Aprovado')\n",
    "elif media >= 6.0 and media < 7.5:\n",
    "    print('Nota um ', n1)\n",
    "    print('Nota dois ',n2)\n",
    "    print('Média ', media)\n",
    "    print('Conceito é C')\n",
    "    print('Aprovado')\n",
    "elif media >= 4.0 and media < 6.0:\n",
    "    print('Nota um ', n1)\n",
    "    print('Nota dois ',n2)\n",
    "    print('Média ', media)\n",
    "    print('Conceito é D')\n",
    "    print('Reprovado')\n",
    "else:\n",
    "    print('Nota um ', n1)\n",
    "    print('Nota dois ',n2)\n",
    "    print('Média ', media)\n",
    "    print('Conceito é E')\n",
    "    print('Reprovado')\n",
    "    "
   ]
  },
  {
   "cell_type": "markdown",
   "metadata": {},
   "source": [
    "8)Faça um Programa que peça os 3 lados de um triângulo. O\n",
    "programa deverá informar se os valores podem ser um triângulo.\n",
    "Indique, caso os lados formem um triângulo, se o mesmo é:\n",
    "equilátero, isósceles ou escaleno.\n",
    "Dicas:\n",
    "- Três lados formam um triângulo quando a soma de quaisquer dois\n",
    "lados for maior que o terceiro;\n",
    "- Triângulo Equilátero: três lados iguais;\n",
    "- Triângulo Isósceles: quaisquer dois lados iguais;\n",
    "- Triângulo Escaleno: três lados diferentes;"
   ]
  },
  {
   "cell_type": "code",
   "execution_count": null,
   "metadata": {},
   "outputs": [],
   "source": [
    "ladoum = int(input('Digite o valor do primeiro lado '))\n",
    "ladodois = int(input('Digite o valor do segundo lado '))\n",
    "ladotres = int(input('Digite o valor do terceiro lado '))\n",
    "ladoumdois = ladoum + ladodois\n",
    "ladoumtres = ladoum + ladotres\n",
    "ladotresdois = ladotres + ladodois\n",
    "\n",
    "if ladoumdois > ladotres or ladoumtres > ladodois or ladotresdois > ladoum:\n",
    "    if ladoum == ladodois and ladodois == ladotres:\n",
    "        print('O Triangulo é equilatero ', ladoum, ladodois, ladotres)\n",
    "    elif ladoum == ladodois or ladoum == ladotres or ladodois == ladotres:\n",
    "        print('O Triangulo é Isosceles ', ladoum, ladodois, ladotres)\n",
    "    elif ladoum != ladodois and ladoum != ladotres and ladodois != ladotres:\n",
    "        print('O Triangulo é Escaleno', ladoum, ladodois, ladotres)\n",
    "else:\n",
    "    print('Os valores informados não podem ser um triangulo')"
   ]
  },
  {
   "cell_type": "markdown",
   "metadata": {},
   "source": [
    "9)Faça um programa que calcule as raízes de uma equação do\n",
    "segundo grau, na forma ax2 + bx + c. O programa deverá pedir os\n",
    "valores de a, b e c e fazer as consistências, informando ao usuário\n",
    "nas seguintes situações:\n",
    "- Se o usuário informar o valor de A igual a zero, a equação não é do\n",
    "segundo grau e o programa não deve fazer pedir os demais valores,\n",
    "sendo encerrado;\n",
    "- Se o delta calculado for negativo, a equação não possui raizes\n",
    "reais. Informe ao usuário e encerre o programa;\n",
    "- Se o delta calculado for igual a zero a equação possui apenas uma\n",
    "raiz real; informe-a ao usuário;\n",
    "- Se o delta for positivo, a equação possui duas raiz reais; informeas\n",
    "ao usuário;"
   ]
  },
  {
   "cell_type": "code",
   "execution_count": null,
   "metadata": {},
   "outputs": [],
   "source": [
    "a = float(input(\"Digite o valor de a: \"))\n",
    "\n",
    "if(a != 0):\n",
    "   b = float(input(\"Digite o valor de b: \"))\n",
    "   c = float(input(\"Digite o valor de c: \"))\n",
    "   delta = (b**2) - 4 * a * c\n",
    "   if(delta < 0):\n",
    "       print(\"O delta deu negativo, não existe raizes\")\n",
    "   elif(delta==0):\n",
    "       x = (-b+delta)/(2*a)\n",
    "       print(\"O delta deu igual à 0(ZERO) então possui apenas uma raíz, a raiz é: \", x)\n",
    "   else:\n",
    "        x1 = (-b+delta)/(2*a)\n",
    "        x2 = (-b-delta)/(2*a)\n",
    "        print(\"x1 = \",x1, \"x2\",x2)\n",
    "        \n",
    "else:\n",
    "    print(\"O valor de a não pode ser 0 (ZERO)\")"
   ]
  },
  {
   "cell_type": "markdown",
   "metadata": {},
   "source": [
    "10)Faça um Programa para um caixa eletrônico. O programa\n",
    "deverá perguntar ao usuário a valor do saque e depois informar\n",
    "quantas notas de cada valor serão fornecidas. As notas disponíveis\n",
    "serão as de 1, 5, 10, 50 e 100 reais. O valor mínimo é de 10 reais e\n",
    "o máximo de 600 reais. O programa não deve se preocupar com a\n",
    "quantidade de notas existentes na máquina.\n",
    "- Exemplo 1: Para sacar a quantia de 256 reais, o programa fornece\n",
    "duas notas de 100, uma nota de 50, uma nota de 5 e uma nota de\n",
    "1;\n",
    "- Exemplo 2: Para sacar a quantia de 399 reais, o programa fornece\n",
    "três notas de 100, uma nota de 50, quatro notas de 10, uma nota de\n",
    "5 e quatro notas de 1."
   ]
  },
  {
   "cell_type": "code",
   "execution_count": null,
   "metadata": {},
   "outputs": [],
   "source": [
    "valorDebitado = float(input(\"Digite o valor do saque(10 à 600 reais): \"))\n",
    "valor1 = int(valorDebitado / 1)\n",
    "print(\"valor1\", valor1)\n",
    "valor5 = int(valorDebitado / 2)\n",
    "print(\"valor5\", valor5)\n",
    "valor10  = int(valorDebitado/10) \n",
    "print(\"valor10\", valor10)\n",
    "valor50  = int(valorDebitado/50) \n",
    "print(\"valor50\", valor50)\n",
    "valor100  = int(valorDebitado/100)\n",
    "print(\"valor100\", valor100)\n",
    "\n",
    "print(\"Para  sacar a quantia de \", valorDebitado, \"o programa fornece:\\n\", \n",
    "      valor1, \"de notas de 1 real\\n\", valor5, \"de notas de 5 reais \\n\", \n",
    "      valor10, \"de notas de 10 reias\\n\",valor50, \"de notas de 50 reais \\n\", valor10, \"de notas de 100 reais\" )"
   ]
  },
  {
   "cell_type": "markdown",
   "metadata": {},
   "source": [
    "11)Faça um programa que faça 5 perguntas para uma pessoa\n",
    "sobre um crime. As perguntas são:\n",
    "\"Telefonou para a vítima?\"\n",
    "\"Esteve no local do crime?\"\n",
    "\"Mora perto da vítima?\"\n",
    "\"Devia para a vítima?\"\n",
    "\"Já trabalhou com a vítima?\"\n",
    "O programa deve no fnal emitir uma classifcação sobre a\n",
    "participação da pessoa no crime. Se a pessoa responder\n",
    "positivamente a 2 questões ela deve ser classifcada como\n",
    "\"Suspeita\", entre 3 e 4 como \"Cúmplice\" e 5 como \"Assassino\". Caso\n",
    "contrário, ele será classifcado como \"Inocente\"."
   ]
  },
  {
   "cell_type": "code",
   "execution_count": null,
   "metadata": {},
   "outputs": [],
   "source": [
    "um = input('Telefonou para a vitima? ')\n",
    "dois = input('Esteve no local do crime? ')\n",
    "tres = input('Mora perto da vitima? ')\n",
    "quatro = input('Devia para a vitima? ')\n",
    "cinco = input('Já trabalhou com a vitima? ')\n",
    "classificacao = 0\n",
    "\n",
    "if um == 'sim':\n",
    "    classificacao = classificacao + 1\n",
    "if dois == 'sim':\n",
    "    classificacao = classificacao + 1\n",
    "if tres == 'sim':\n",
    "    classificacao = classificacao + 1\n",
    "if quatro == 'sim':\n",
    "    classificacao = classificacao + 1\n",
    "if cinco == 'sim':\n",
    "    classificacao = classificacao + 1\n",
    "if classificacao == 2:\n",
    "    print('Voce é suspeito(a) ')\n",
    "    print(classificacao)\n",
    "elif classificacao >= 3 and classificacao <= 4:\n",
    "    print('Voce é cumplice')\n",
    "    print(classificacao)\n",
    "elif classificacao == 5:\n",
    "    print('Voce é o assasino!!!1!111!')\n",
    "    print(classificacao)\n",
    "else:\n",
    "    print('Voce é inocente jovem')\n",
    "    print(classificacao)"
   ]
  },
  {
   "cell_type": "markdown",
   "metadata": {},
   "source": [
    "12) Uma fruteira está vendendo frutas com a seguinte tabela de\n",
    "preços:\n",
    "Até 5 Kg Acima de 5 Kg\n",
    "Morango R$ 2,50 por Kg R$ 2,20 por Kg\n",
    "Maçã R$ 1,80 por Kg R$ 1,50 por Kg\n",
    "Se o cliente comprar mais de 8 Kg em frutas ou o valor total da\n",
    "compra ultrapassar R$ 25,00, receberá ainda um desconto de 10%\n",
    "sobre este total. Escreva um algoritmo para ler a quantidade (em\n",
    "Kg) de morangos e a quantidade (em Kg) de maças adquiridas e\n",
    "escreva o valor a ser pago pelo cliente."
   ]
  },
  {
   "cell_type": "code",
   "execution_count": null,
   "metadata": {},
   "outputs": [],
   "source": [
    "Morango = 2.5\n",
    "Maca = 1.8\n",
    "Mokilo = float(input('Digite a quantidade de Morangos (Kg) '))\n",
    "Makilo = float(input('Digite a quantidade de Maçã (Kg) '))\n",
    "Kilototal = Mokilo + Makilo\n",
    "ValorMo = Morango * Mokilo\n",
    "ValorMa = Maca * Makilo\n",
    "ValorTotal = ValorMo + ValorMa\n",
    "\n",
    "if Mokilo > 5 or Makilo > 5:\n",
    "    Morango = 2.20\n",
    "    Maca = 1.50\n",
    "    ValorMo = Morango * Mokilo\n",
    "    ValorMa = Maca * Makilo\n",
    "    ValorTotal = ValorMo + ValorMa\n",
    "    print('Valor total acima de 5kg ', ValorTotal)\n",
    "    if Kilototal >= 8 or ValorTotal > 25.00:\n",
    "        ValorTotal = ValorTotal - ((ValorTotal/100) * 10)\n",
    "        print('Valor total com desconto ', ValorTotal)\n",
    "else:\n",
    "    print('Valor total ', ValorTotal)\n",
    "\n"
   ]
  },
  {
   "cell_type": "markdown",
   "metadata": {},
   "source": [
    "13) Faça um programa que peça uma nota, entre zero e dez. Mostre\n",
    "uma mensagem caso o valor seja inválido e continue pedindo até\n",
    "que o usuário informe um valor válido."
   ]
  },
  {
   "cell_type": "code",
   "execution_count": null,
   "metadata": {},
   "outputs": [],
   "source": [
    "nota = float(input(\"Digite uma nota entre 0(ZERO) e 10: \"))\n",
    "if((nota>= 0) and (nota <= 10)):\n",
    "    print(\"nota:\", nota)\n",
    "else:\n",
    "    while True:\n",
    "        nota = float(input(\"Valor inválido! Digite de novo um valor entre 0(ZERO) e 10: \"))\n",
    "        if((nota>= 0) and (nota <= 10)):\n",
    "            print(\"nota:\", nota)\n",
    "            break"
   ]
  },
  {
   "cell_type": "markdown",
   "metadata": {},
   "source": [
    "13 B)Faça um programa que leia e valide as seguintes informações:\n",
    "Nome: maior que 3 caracteres;\n",
    "Idade: entre 0 e 150;\n",
    "Salário: maior que zero;\n",
    "Sexo: 'f' ou 'm';\n",
    "Estado Civil: 's', 'c', 'v', 'd';"
   ]
  },
  {
   "cell_type": "code",
   "execution_count": null,
   "metadata": {},
   "outputs": [],
   "source": [
    "nome = input(\"digite seu nome: \")\n",
    "idade = int(input(\"Digite sua idade: \"))\n",
    "sexo = input(\"Digite  'f' para feminino ou 'm' para masculino:\")\n",
    "estadoCivil = input(\"Digite  's' para solteiro ou 'c' para casado ou 'v' para viuvo ou 'd' para divorciado:\")\n",
    "\n",
    "if(len(nome) > 3):\n",
    "    print(\"Nome:\",nome)\n",
    "else:\n",
    "    print(\"O nome deve conter mais de 3 caracteres\")\n",
    "    \n",
    "if(idade >= 0 and idade <= 150):\n",
    "    print(\"Idade:\", idade)\n",
    "else:\n",
    "    print(\"Valor de idade incorreta\")\n",
    "\n",
    "if(sexo == 'f'):\n",
    "    print(\"Sexo:Feminino\")\n",
    "elif(sexo == 'm'):\n",
    "    print(\"Sexo: Masculino\")\n",
    "else:\n",
    "    print(\"Não correspondente a nenuma das opções..\")\n",
    "\n",
    "if(estadoCivil == 's'):\n",
    "    print(\"Estado civil :Solteiro\")\n",
    "elif(estadoCivil == 'c'):\n",
    "    print(\"Estado civil: Casado\")\n",
    "elif(estadoCivil == 'v'):\n",
    "    print(\"Estado civil: Viuvo\")\n",
    "elif(estadoCivil == 'd'):\n",
    "    print(\"Estado civil: Divorciado\")\n",
    "else:\n",
    "    print(\"Não correspondente a nenuma das opções..\")"
   ]
  },
  {
   "cell_type": "markdown",
   "metadata": {},
   "source": [
    "14)Faça um programa que leia 5 números e informe o maior\n",
    "número."
   ]
  },
  {
   "cell_type": "code",
   "execution_count": null,
   "metadata": {},
   "outputs": [],
   "source": [
    "x = 0\n",
    "lista = []\n",
    "while x < 5:\n",
    "    z = int(input('Digite o valor '))\n",
    "    lista.append(z)\n",
    "    x = x + 1\n",
    "print('O maior numero é ', max(lista))"
   ]
  },
  {
   "cell_type": "markdown",
   "metadata": {},
   "source": [
    "15)Faça um programa que leia 5 números e informe a soma e a\n",
    "média dos números."
   ]
  },
  {
   "cell_type": "code",
   "execution_count": null,
   "metadata": {},
   "outputs": [],
   "source": [
    "x = 0\n",
    "list_sum = 0\n",
    "lista = []\n",
    "while x < 5:\n",
    "    z = int(input('Digite o valor '))\n",
    "    lista.append(z)\n",
    "    x = x + 1\n",
    "    \n",
    "for num in lista:\n",
    "    list_sum += num\n",
    "    media = list_sum / 5\n",
    "print(f'A soma é {list_sum}')\n",
    "print(f'A media é {media}')"
   ]
  },
  {
   "cell_type": "markdown",
   "metadata": {},
   "source": [
    "16) Faça um programa que imprima na tela apenas os números\n",
    "ímpares entre 1 e 50."
   ]
  },
  {
   "cell_type": "code",
   "execution_count": null,
   "metadata": {},
   "outputs": [],
   "source": [
    "x = 0\n",
    "z = 0\n",
    "lista = []\n",
    "while x < 50:\n",
    "    z = z + 1\n",
    "    lista.append(z)\n",
    "    x = x + 1\n",
    "for num in lista:\n",
    "    if num%2 != 0:\n",
    "        print(num)\n",
    "    "
   ]
  },
  {
   "cell_type": "markdown",
   "metadata": {},
   "source": [
    "17) Desenvolva um gerador de tabuada, capaz de gerar a tabuada\n",
    "de qualquer número inteiro entre 1 a 10. O usuário deve informar\n",
    "de qual numero ele deseja ver a tabuada. A saída deve ser\n",
    "conforme o exemplo abaixo:\n",
    "Tabuada de 5:\n",
    "5 X 1 = 5\n",
    "5 X 2 = 10\n",
    "...\n",
    "5 X 10 = 50"
   ]
  },
  {
   "cell_type": "code",
   "execution_count": null,
   "metadata": {},
   "outputs": [],
   "source": [
    "n = int(input(\"Digite o valor da tabuada: \"))\n",
    "x = 1\n",
    "while x <= 10:\n",
    "     print(n,'X',x, '=', n*x)\n",
    "     x = x + 1"
   ]
  },
  {
   "cell_type": "markdown",
   "metadata": {},
   "source": [
    "18) A série de Fibonacci é formada pela seqüência\n",
    "1,1,2,3,5,8,13,21,34,55,... Faça um programa capaz de gerar a série\n",
    "até o n−ésimo termo."
   ]
  },
  {
   "cell_type": "code",
   "execution_count": 7,
   "metadata": {},
   "outputs": [
    {
     "name": "stdout",
     "output_type": "stream",
     "text": [
      "Digite o termo no qual deseja parar: 90\n",
      "\n",
      "A Sequência de Fibonacci até o  90 º termo é:\n",
      "\n",
      "\n",
      "1, 1, 2, 3, 5, 8, 13, 21, 34, 55, 89, 144, 233, 377, 610, 987, 1597, 2584, 4181, 6765, 10946, 17711, 28657, 46368, 75025, 121393, 196418, 317811, 514229, 832040, 1346269, 2178309, 3524578, 5702887, 9227465, 14930352, 24157817, 39088169, 63245986, 102334155, 165580141, 267914296, 433494437, 701408733, 1134903170, 1836311903, 2971215073, 4807526976, 7778742049, 12586269025, 20365011074, 32951280099, 53316291173, 86267571272, 139583862445, 225851433717, 365435296162, 591286729879, 956722026041, 1548008755920, 2504730781961, 4052739537881, 6557470319842, 10610209857723, 17167680177565, 27777890035288, 44945570212853, 72723460248141, 117669030460994, 190392490709135, 308061521170129, 498454011879264, 806515533049393, 1304969544928657, 2111485077978050, 3416454622906707, 5527939700884757, 8944394323791464, 14472334024676221, 23416728348467685, 37889062373143906, 61305790721611591, 99194853094755497, 160500643816367088, 259695496911122585, 420196140727489673, 679891637638612258, 1100087778366101931, 1779979416004714189, 2880067194370816120."
     ]
    }
   ],
   "source": [
    "[i,j] = [0,1]\n",
    "\n",
    "f = int(input(\"Digite o termo no qual deseja parar: \"))\n",
    "print(\"\\nA Sequência de Fibonacci até o \",f,\"º termo é:\\n\\n\")\n",
    "\n",
    "for n in range(0,f):\n",
    "  k = i + j\n",
    "  if (n!=f-1):\n",
    "    print(k,end=', ')\n",
    "  else:\n",
    "    print(k,end='.')\n",
    "  j=i\n",
    "  i=k"
   ]
  },
  {
   "cell_type": "markdown",
   "metadata": {},
   "source": [
    "19)Faça um programa que calcule o fatorial de um número inteiro\n",
    "fornecido pelo usuário. Ex.: 5!=5.4.3.2.1=120"
   ]
  },
  {
   "cell_type": "code",
   "execution_count": 6,
   "metadata": {},
   "outputs": [
    {
     "name": "stdout",
     "output_type": "stream",
     "text": [
      "Digite o valor de n: 5\n",
      "120\n"
     ]
    }
   ],
   "source": [
    "n = int(input(\"Digite o valor de n: \"))\n",
    " \n",
    " \n",
    "fatorial = 1\n",
    " \n",
    "while (n > 0):\n",
    "    fatorial = fatorial * n\n",
    "    n -= 1\n",
    " \n",
    "print(fatorial)"
   ]
  },
  {
   "cell_type": "markdown",
   "metadata": {},
   "source": [
    "20)O Sr. Manoel Joaquim possui uma grande loja de artigos de R$\n",
    "1,99, com cerca de 10 caixas. Para agilizar o cálculo de quanto cada\n",
    "cliente deve pagar ele desenvolveu um tabela que contém o\n",
    "número de itens que o cliente comprou e ao lado o valor da conta.\n",
    "Desta forma a atendente do caixa precisa apenas contar quantos\n",
    "itens o cliente está levando e olhar na tabela de preços. Você foi\n",
    "contratado para desenvolver o programa que monta esta tabela de\n",
    "preços, que conterá os preços de 1 até 50 produtos, conforme o\n",
    "exemplo abaixo:\n",
    "\n",
    "Lojas Quase Dois - Tabela de preços\n",
    "1 - R$ 1.99\n",
    "2 - R$ 3.98\n",
    "...\n",
    "50 - R$ 99.50"
   ]
  },
  {
   "cell_type": "code",
   "execution_count": 11,
   "metadata": {},
   "outputs": [
    {
     "name": "stdout",
     "output_type": "stream",
     "text": [
      "1 - R$ 1.99\n",
      "2 - R$ 3.98\n",
      "3 - R$ 5.97\n",
      "4 - R$ 7.96\n",
      "5 - R$ 9.95\n",
      "6 - R$ 11.94\n",
      "7 - R$ 13.93\n",
      "8 - R$ 15.92\n",
      "9 - R$ 17.91\n",
      "10 - R$ 19.9\n",
      "11 - R$ 21.89\n",
      "12 - R$ 23.88\n",
      "13 - R$ 25.87\n",
      "14 - R$ 27.86\n",
      "15 - R$ 29.85\n",
      "16 - R$ 31.84\n",
      "17 - R$ 33.83\n",
      "18 - R$ 35.82\n",
      "19 - R$ 37.81\n",
      "20 - R$ 39.8\n",
      "21 - R$ 41.79\n",
      "22 - R$ 43.78\n",
      "23 - R$ 45.77\n",
      "24 - R$ 47.76\n",
      "25 - R$ 49.75\n",
      "26 - R$ 51.74\n",
      "27 - R$ 53.73\n",
      "28 - R$ 55.72\n",
      "29 - R$ 57.71\n",
      "30 - R$ 59.7\n",
      "31 - R$ 61.69\n",
      "32 - R$ 63.68\n",
      "33 - R$ 65.67\n",
      "34 - R$ 67.66\n",
      "35 - R$ 69.65\n",
      "36 - R$ 71.64\n",
      "37 - R$ 73.63\n",
      "38 - R$ 75.62\n",
      "39 - R$ 77.61\n",
      "40 - R$ 79.6\n",
      "41 - R$ 81.59\n",
      "42 - R$ 83.58\n",
      "43 - R$ 85.57\n",
      "44 - R$ 87.56\n",
      "45 - R$ 89.55\n",
      "46 - R$ 91.54\n",
      "47 - R$ 93.53\n",
      "48 - R$ 95.52\n",
      "49 - R$ 97.51\n",
      "50 - R$ 99.5\n"
     ]
    }
   ],
   "source": [
    "x = 0\n",
    "z = 0\n",
    "y = 1.99\n",
    "lista = []\n",
    "while x < 50:\n",
    "    z = z + 1\n",
    "    lista.append(z)\n",
    "    x = x + 1\n",
    "for num in lista:\n",
    "        print(f'{num} - R$', round(y, 2))\n",
    "        y += 1.99"
   ]
  },
  {
   "cell_type": "markdown",
   "metadata": {},
   "source": [
    "21) O Sr. Manoel Joaquim acaba de adquirir uma panifcadora e\n",
    "pretende implantar a metodologia da tabelinha, que já é um\n",
    "sucesso na sua loja de 1,99. Você foi contratado para desenvolver o\n",
    "programa que monta a tabela de preços de pães, de 1 até 50 pães,\n",
    "a partir do preço do pão informado pelo usuário, conforme o\n",
    "exemplo abaixo:\n",
    "\n",
    "Preço do pão: R$ 0.18\n",
    "Panificadora Pão de Ontem - Tabela de preços\n",
    "1 - R$ 0.18\n",
    "2 - R$ 0.36\n",
    "...\n",
    "50 - R$ 9.00"
   ]
  },
  {
   "cell_type": "code",
   "execution_count": 20,
   "metadata": {},
   "outputs": [
    {
     "name": "stdout",
     "output_type": "stream",
     "text": [
      "Digite o preço: 10\n",
      "1 - R$ 0.18\n",
      "2 - R$ 0.36\n",
      "3 - R$ 0.54\n",
      "4 - R$ 0.72\n",
      "5 - R$ 0.9\n",
      "6 - R$ 1.08\n",
      "7 - R$ 1.26\n",
      "8 - R$ 1.44\n",
      "9 - R$ 1.62\n",
      "10 - R$ 1.8\n",
      "11 - R$ 1.98\n",
      "12 - R$ 2.16\n",
      "13 - R$ 2.34\n",
      "14 - R$ 2.52\n",
      "15 - R$ 2.7\n",
      "16 - R$ 2.88\n",
      "17 - R$ 3.06\n",
      "18 - R$ 3.24\n",
      "19 - R$ 3.42\n",
      "20 - R$ 3.6\n",
      "21 - R$ 3.78\n",
      "22 - R$ 3.96\n",
      "23 - R$ 4.14\n",
      "24 - R$ 4.32\n",
      "25 - R$ 4.5\n",
      "26 - R$ 4.68\n",
      "27 - R$ 4.86\n",
      "28 - R$ 5.04\n",
      "29 - R$ 5.22\n",
      "30 - R$ 5.4\n",
      "31 - R$ 5.58\n",
      "32 - R$ 5.76\n",
      "33 - R$ 5.94\n",
      "34 - R$ 6.12\n",
      "35 - R$ 6.3\n",
      "36 - R$ 6.48\n",
      "37 - R$ 6.66\n",
      "38 - R$ 6.84\n",
      "39 - R$ 7.02\n",
      "40 - R$ 7.2\n",
      "41 - R$ 7.38\n",
      "42 - R$ 7.56\n",
      "43 - R$ 7.74\n",
      "44 - R$ 7.92\n",
      "45 - R$ 8.1\n",
      "46 - R$ 8.28\n",
      "47 - R$ 8.46\n",
      "48 - R$ 8.64\n",
      "49 - R$ 8.82\n",
      "50 - R$ 9.0\n",
      "Quantidade de pães: 55\n"
     ]
    }
   ],
   "source": [
    "precoDoPao = float(input(\"Digite o preço: \"))\n",
    "x = 0\n",
    "z = 0\n",
    "precoDoPaoUnidade = 0.18\n",
    "lista = []\n",
    "while x < 50:\n",
    "    z = z + 1\n",
    "    lista.append(z)\n",
    "    x = x + 1\n",
    "for num in lista:\n",
    "        print(f'{num} - R$', round(precoDoPaoUnidade, 2))\n",
    "        precoDoPaoUnidade += 0.18\n",
    "qntDoPao = int(precoDoPao / 0.18)\n",
    "print(\"Quantidade de pães:\", qntDoPao)"
   ]
  },
  {
   "cell_type": "markdown",
   "metadata": {},
   "source": [
    "22) O Sr. Manoel Joaquim expandiu seus negócios para além dos\n",
    "negócios de 1,99 e agora possui uma loja de conveniências. Faça\n",
    "um programa que implemente uma caixa registradora rudimentar.\n",
    "O programa deverá receber um número desconhecido de valores\n",
    "referentes aos preços das mercadorias. Um valor zero deve ser\n",
    "informado pelo operador para indicar o fnal da compra. O programa\n",
    "deve então mostrar o total da compra e perguntar o valor em\n",
    "dinheiro que o cliente forneceu, para então calcular e mostrar o\n",
    "valor do troco. Após esta operação, o programa deverá voltar ao\n",
    "ponto inicial, para registrar a próxima compra. A saída deve ser\n",
    "conforme o exemplo abaixo\n",
    "\n",
    "Lojas Tabajara\n",
    "Produto 1: R$ 2.20\n",
    "Produto 2: R$ 5.80\n",
    "Produto 3: R$ 0\n",
    "Total: R$ 9.00\n",
    "Dinheiro: R$ 20.00\n",
    "Troco: R$ 11.00\n",
    "..."
   ]
  },
  {
   "cell_type": "code",
   "execution_count": null,
   "metadata": {},
   "outputs": [
    {
     "name": "stdout",
     "output_type": "stream",
     "text": [
      "Digite o valor do produto: 10\n",
      "Digite o valor do produto: 10\n",
      "Digite o valor do produto: 5\n",
      "Digite o valor do produto: 0\n"
     ]
    }
   ],
   "source": [
    "y = 1\n",
    "total = 0\n",
    "z = 1\n",
    "lista = []\n",
    "a = 0\n",
    "while z != 0: \n",
    "    while y != 0:\n",
    "        x = round(float(input('Digite o valor do produto: ')), 2)\n",
    "        a = a + 1\n",
    "        lista = [a,x]\n",
    "        total = total + x\n",
    "        if x == 0:\n",
    "            y = 0\n",
    "        for num in lista:\n",
    "                (num)\n",
    "valorCliente = round(float(input('Digite o valor do cliente: ')), 2)\n",
    "troco = total - valorCliente\n",
    "\n",
    "\n",
    "    "
   ]
  },
  {
   "cell_type": "code",
   "execution_count": null,
   "metadata": {},
   "outputs": [],
   "source": [
    "while x < 50:\n",
    "    z = z + 1\n",
    "    lista.append(z)\n",
    "    x = x + 1\n",
    "for num in lista:\n",
    "        print(f'{num} - R$', round(precoDoPaoUnidade, 2))\n",
    "        precoDoPaoUnidade += 0.18\n",
    "qntDoPao = int(precoDoPao / 0.18)\n",
    "print(\"Quantidade de pães:\", qntDoPao)"
   ]
  }
 ],
 "metadata": {
  "kernelspec": {
   "display_name": "Python 3",
   "language": "python",
   "name": "python3"
  },
  "language_info": {
   "codemirror_mode": {
    "name": "ipython",
    "version": 3
   },
   "file_extension": ".py",
   "mimetype": "text/x-python",
   "name": "python",
   "nbconvert_exporter": "python",
   "pygments_lexer": "ipython3",
   "version": "3.6.5"
  }
 },
 "nbformat": 4,
 "nbformat_minor": 2
}
