{
 "cells": [
  {
   "cell_type": "markdown",
   "metadata": {},
   "source": [
    "1)Faça um Programa que peça o raio de um círculo, calcule e\n",
    "mostre sua área."
   ]
  },
  {
   "cell_type": "code",
   "execution_count": null,
   "metadata": {},
   "outputs": [],
   "source": [
    "a = input(\"Digite o valor do raio \")\n",
    "pi = 3.14\n",
    "b = pi * (int(a) ** 2)\n",
    "print(b)"
   ]
  },
  {
   "cell_type": "markdown",
   "metadata": {},
   "source": [
    "2)Faça um Programa que calcule a área de um quadrado, em\n",
    "seguida mostre o dobro desta área para o usuário."
   ]
  },
  {
   "cell_type": "code",
   "execution_count": null,
   "metadata": {},
   "outputs": [],
   "source": [
    "a = input(\"Digite o valor do lado do quadrado \")\n",
    "b = (int(a) * int(a)) * 2\n",
    "print(b)"
   ]
  },
  {
   "cell_type": "markdown",
   "metadata": {},
   "source": [
    "3)Faça um Programa que pergunte quanto você ganha por hora e o\n",
    "número de horas trabalhadas no mês. Calcule e mostre o total do\n",
    "seu salário no referido mês."
   ]
  },
  {
   "cell_type": "code",
   "execution_count": null,
   "metadata": {},
   "outputs": [],
   "source": [
    "a = input(\"Digite o valor da sua hora \")\n",
    "b = input(\"Digite a quantidade de horas trabalhadas no mês \")\n",
    "c = float(a) * int(b)\n",
    "print(\"Voce ganhou neste mes R$\", c, \"reais\")"
   ]
  },
  {
   "cell_type": "markdown",
   "metadata": {},
   "source": [
    "4)Faça um Programa que peça a temperatura em graus Farenheit,\n",
    "transforme e mostre a temperatura em graus Celsius. C = (5 * (F-\n",
    "328 / 98."
   ]
  },
  {
   "cell_type": "code",
   "execution_count": null,
   "metadata": {},
   "outputs": [],
   "source": [
    "a = input(\"Digite a temperatura em graus Farenheit (°F) \")\n",
    "b = (int(a) - 32) / 1.8\n",
    "print(\"A temperatura em graus Celsius é de \", b,\"°C\")"
   ]
  },
  {
   "cell_type": "markdown",
   "metadata": {},
   "source": [
    "5)Faça um Programa que peça a temperatura em graus Celsius,\n",
    "transforme e mostre em graus Farenheit."
   ]
  },
  {
   "cell_type": "code",
   "execution_count": null,
   "metadata": {},
   "outputs": [],
   "source": [
    "a = input(\"Digite a temperatura em graus Celsius (°C) \")\n",
    "b = (int(a) * 1.8) + 32\n",
    "print(\"A temperatura em graus Farenheit é de \", b,\"°F\")"
   ]
  },
  {
   "cell_type": "markdown",
   "metadata": {},
   "source": [
    "6)Faça um Programa que peça 2 números inteiros e um número\n",
    "real. Calcule e mostre:\n",
    "\n",
    "o produto do dobro do primeiro com metade do segundo .\n",
    "a soma do triplo do primeiro com o terceiro.\n",
    "terceiro elevado ao cubo."
   ]
  },
  {
   "cell_type": "code",
   "execution_count": null,
   "metadata": {},
   "outputs": [],
   "source": [
    "a = input(\"Digite o primeiro numero inteiro \")\n",
    "b = input(\"Digite o segundo numero inteiro \")\n",
    "c = input(\"Digite o numero real \")\n",
    "d = (int(a) * 2) + (int(b) / 2)\n",
    "e = (int(a) * 3) + float(c)\n",
    "f = float(c) ** 3\n",
    "\n",
    "print(\"O dobro do primeiro com metade do segundo é:\", d)\n",
    "print(\"O triplo do primeiro com o terceiro é:\", e)\n",
    "print(\"o terceiro elevado ao cubo é:\", f)\n",
    "\n"
   ]
  },
  {
   "cell_type": "markdown",
   "metadata": {},
   "source": [
    "7)João Papo-de-Pescador, homem de bem, comprou um\n",
    "microcomputador para controlar o rendimento diário de seu\n",
    "trabalho. Toda vez que ele traz um peso de peixes maior que o\n",
    "estabelecido pelo regulamento de pesca do estado de São Paulo (50\n",
    "quilos) deve pagar uma multa de R$ 4,00 por quilo excedente. João\n",
    "precisa que você faça um programa que leia a variável peso (peso\n",
    "de peixes) e verifque se há excesso. Se houver, gravar na variável\n",
    "excesso e na variável multa o valor da multa que João deverá pagar.\n",
    "Caso contrário mostrar tais variáveis com o conteúdo ZERO."
   ]
  },
  {
   "cell_type": "code",
   "execution_count": null,
   "metadata": {},
   "outputs": [],
   "source": [
    "peso = input(\"Digite o peso dos peixes: \")\n",
    "limite = 50\n",
    "if float(peso) > int(limite): \n",
    "    excesso = float(peso) - limite\n",
    "    multa = float(excesso) * 4\n",
    "    print(\"Você excedeu o peso em:\", excesso)\n",
    "    print(\"A multa é de:\", multa)\n",
    "else:\n",
    "    excesso = 0\n",
    "    multa = 0\n",
    "    print(\"Voce não excedeu o limite de peso, portanto o excesso é de:\", excesso, \"e a multa é de:\", multa)"
   ]
  },
  {
   "cell_type": "markdown",
   "metadata": {},
   "source": [
    "8)Faça um Programa que pergunte quanto você ganha por hora e o\n",
    "número de horas trabalhadas no mês. Calcule e mostre o total do\n",
    "seu salário no referido mês, sabendo-se que são descontados 11%\n",
    "para o Imposto de Renda, 8% para o INSS e 5% para o sindicato,\n",
    "faça um programa que nos dê:\n",
    "- salário bruto.\n",
    "- quanto pagou ao INSS.\n",
    "- quanto pagou ao sindicato.\n",
    "- o salário líquido.\n",
    "- calcule os descontos e o salário líquido, conforme a tabela abaixo:\n",
    "+ Salário Bruto : R$\n",
    "- IR (11%8 : R$\n",
    "- INSS (8%8 : R$\n",
    "- Sindicato ( 5%8 : R$\n",
    "= Salário Liquido : R$\n",
    "Obs.: Salário Bruto - Descontos = Salário Líquido."
   ]
  },
  {
   "cell_type": "code",
   "execution_count": null,
   "metadata": {},
   "outputs": [],
   "source": [
    "hora = input(\"Digite o quanto você ganha por hora \")\n",
    "mês = input(\"Digite a quantidade de horas trabalhadas no mês\")\n",
    "bruto = float(hora) * float(mês)\n",
    "inss = (float(bruto) / 100) * 8\n",
    "sindicato = (float(bruto) / 100) * 5\n",
    "imposto_de_renda = (float(bruto) / 100) * 11\n",
    "descontos = inss + sindicato + imposto_de_renda\n",
    "liquido = bruto - descontos\n",
    "\n",
    "print(\"Os detalhes do seu salario neste mês são: \",  \n",
    "      \"\\nSalario Bruto: \", bruto,\n",
    "        \"\\nINSS: \", inss,\n",
    "         \"\\nSindicato: \", sindicato,\n",
    "         \"\\nIR: \", imposto_de_renda,\n",
    "         \"\\nTotal de Descontos: \", descontos,\n",
    "         \"\\nSalario liquido: \", liquido)\n"
   ]
  },
  {
   "cell_type": "markdown",
   "metadata": {},
   "source": [
    "9)Faça um programa que leia 2 strings e informe o conteúdo delas\n",
    "seguido do seu comprimento. Informe também se as duas strings\n",
    "possuem o mesmo comprimento e são iguais ou diferentes no\n",
    "conteúdo.\n",
    "Exemplo:\n",
    "String 1: Brasil Hexa 2018\n",
    "String 2: Brasil! Hexa 2018!\n",
    "Tamanho de \"Brasil Hexa 2018\": 16 caracteres\n",
    "Tamanho de \"Brasil! Hexa 2018!\": 18 caracteres\n",
    "As duas strings são de tamanhos diferentes.\n",
    "As duas strings possuem conteúdo diferente."
   ]
  },
  {
   "cell_type": "code",
   "execution_count": null,
   "metadata": {},
   "outputs": [],
   "source": [
    "string_um = input(\"Digite a primeira string \")\n",
    "string_dois = input(\"Digite a segunda string \")\n",
    "if (len(string_um) == len(string_dois)) and (string_um == string_dois):\n",
    "    print(\"\\nTamanho string um: \", len(string_um))\n",
    "    print(\"\\nTamanho string dois: \", len(string_dois))\n",
    "    print(\"\\nConteudo string um: \", string_um)\n",
    "    print(\"\\nConteudo string um: \", string_dois)\n",
    "    print(\"\\nAs strings \", string_um, \"e\", string_dois, \"são iguais em tamanho e conteúdo\")\n",
    "elif (len(string_um) == len(string_dois)) and (string_um != string_dois):\n",
    "    print(\"\\nTamanho string um: \", len(string_um))\n",
    "    print(\"\\nTamanho string dois: \", len(string_dois))\n",
    "    print(\"\\nConteudo string um: \", string_um)\n",
    "    print(\"\\nConteudo string um: \", string_dois)\n",
    "    print(\"\\nO tamanho das strings são iguais, porem o conteúdo é diferente.\")\n",
    "else:\n",
    "    print(\"\\nTamanho string um: \", len(string_um))\n",
    "    print(\"\\nTamanho string dois: \", len(string_dois))\n",
    "    print(\"\\nConteudo string um: \", string_um)\n",
    "    print(\"\\nConteudo string um: \", string_dois)\n",
    "    print(\"\\nAs strings não são iguais em conteudo e tamanho\")\n",
    "    \n",
    "    \n",
    "    "
   ]
  },
  {
   "cell_type": "markdown",
   "metadata": {},
   "source": [
    "10)Faça um programa que permita ao usuário digitar o seu nome e\n",
    "em seguida mostre o nome do usuário de trás para frente utilizando\n",
    "somente letras maiúsculas. Dica: lembre−se que ao informar o\n",
    "nome o usuário pode digitar letras maiúsculas ou minúsculas.\n",
    "Observação: não use loops."
   ]
  },
  {
   "cell_type": "code",
   "execution_count": null,
   "metadata": {},
   "outputs": [],
   "source": [
    "nome = input(\"Digite seu nome \")\n",
    "maior = nome.upper()\n",
    "tras = maior[::-1]\n",
    "print(f'o seu nome é: {tras}')"
   ]
  },
  {
   "cell_type": "markdown",
   "metadata": {},
   "source": [
    "11)Faça um programa que solicite a data de nascimento\n",
    "(dd/mm/aaaa) do usuário e imprima a data com o nome do mês por\n",
    "extenso.\n",
    "Data de Nascimento: 29/10/1973\n",
    "Você nasceu em 29 de Outubro de 1973.\n",
    "Obs.: Não use desvio condicional nem loops."
   ]
  },
  {
   "cell_type": "code",
   "execution_count": null,
   "metadata": {},
   "outputs": [],
   "source": [
    "dia = input(\"Digite o dia do seu nascimento \")\n",
    "mes = input(\"Digite o mês do seu nascimento \")\n",
    "ano = input(\"Digite o ano do seu nascimento \")\n",
    "lista = ['Meses', 'Janeiro', 'Fevereiro', 'Março', 'Abril', 'Maio', 'Junho', 'Julho', 'Agosto', 'Setembro', 'Outubro', \n",
    "         'Novembro', 'Dezembro']\n",
    "print(\"Você nasceu em\", dia, \"de\", lista[int(mes)], \"de\", ano)\n"
   ]
  },
  {
   "cell_type": "markdown",
   "metadata": {},
   "source": [
    "12)Leet é uma forma de se escrever o alfabeto latino usando outros\n",
    "símbolos em lugar das letras, como números por exemplo. A própria\n",
    "palavra leet admite muitas variações, como l33t ou 1337. O uso do\n",
    "leet reflete uma subcultura relacionada ao mundo dos jogos de\n",
    "computador e internet, sendo muito usada para confundir os\n",
    "iniciantes e afrmar-se como parte de um grupo. Pesquise sobre as\n",
    "principais formas de traduzir as letras. Depois, faça um programa\n",
    "que peça uma texto e transforme-o para a grafa leet speak.\n",
    "Desafo: não use loops nem desvios condicionais."
   ]
  },
  {
   "cell_type": "code",
   "execution_count": null,
   "metadata": {},
   "outputs": [],
   "source": [
    "ab = input(\"Digite: \", \n",
    "'a' = '4'\n",
    "\n",
    "print(Lista[ab])\n"
   ]
  }
 ],
 "metadata": {
  "kernelspec": {
   "display_name": "Python 3",
   "language": "python",
   "name": "python3"
  },
  "language_info": {
   "codemirror_mode": {
    "name": "ipython",
    "version": 3
   },
   "file_extension": ".py",
   "mimetype": "text/x-python",
   "name": "python",
   "nbconvert_exporter": "python",
   "pygments_lexer": "ipython3",
   "version": "3.6.5"
  }
 },
 "nbformat": 4,
 "nbformat_minor": 2
}
