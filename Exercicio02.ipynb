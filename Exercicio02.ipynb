{
 "cells": [
  {
   "cell_type": "markdown",
   "metadata": {},
   "source": [
    "1)Crie um programa que recebe uma lista de números e\n",
    "- retorne o maior elemento\n",
    "- retorne a soma dos elementos\n",
    "- retorne o número de ocorrências do primeiro elemento da lista\n",
    "- retorne a média dos elementos\n",
    "- retorne o valor mais próximo da média dos elementos\n",
    "- retorne a soma dos elementos com valor negativo\n",
    "- retorne a quantidade de vizinhos iguais"
   ]
  },
  {
   "cell_type": "code",
   "execution_count": null,
   "metadata": {},
   "outputs": [],
   "source": [
    "lista = eval('[' + input(\"Digite os valores da lista \") + ']')\n",
    "lista.sort()\n",
    "print('O maior elemento da lista é: ', lista[-1])\n",
    "print('A soma dos elementos é: ', sum(lista))\n",
    "print('O numero de ocorrências do primeiro elemento é: ', lista.count(lista[0]))\n"
   ]
  },
  {
   "cell_type": "markdown",
   "metadata": {},
   "source": [
    "2) Faça um programa que receba duas listas e retorne True se são\n",
    "iguais ou False caso contrario.\n",
    "Duas listas são iguais se possuem os mesmos valores e na mesma\n",
    "ordem."
   ]
  },
  {
   "cell_type": "code",
   "execution_count": null,
   "metadata": {},
   "outputs": [],
   "source": [
    "lista1 = eval( '[' + input(\"Digite os valores da primeira lista \") + ']')\n",
    "lista2 = eval( '[' + input(\"Digite os valores da segunda lista \") + ']')\n",
    "\n",
    "if lista1 == lista2:\n",
    "    print('A lista um', lista1, \"é igual a lista 2\", lista2)\n",
    "else:\n",
    "    print('As listas não são iguais', lista1, lista2)"
   ]
  },
  {
   "cell_type": "markdown",
   "metadata": {},
   "source": [
    "3) Faça um programa que receba duas listas e retorne True se têm\n",
    "os mesmos elementos ou False caso contrário\n",
    "Duas listas possuem os mesmos elementos quando são compostas\n",
    "pelos mesmos valores, mas não obrigatoriamente na mesma ordem."
   ]
  },
  {
   "cell_type": "code",
   "execution_count": null,
   "metadata": {},
   "outputs": [],
   "source": [
    "lista1 = eval( '[' + input(\"Digite os valores da primeira lista \") + ']')\n",
    "lista2 = eval( '[' + input(\"Digite os valores da segunda lista \") + ']')\n",
    "\n"
   ]
  },
  {
   "cell_type": "markdown",
   "metadata": {},
   "source": [
    "4 Faça um programa que percorre uma lista com o seguinte\n",
    "formato: [['Brasil', 'Italia', [10, 9]], ['Brasil', 'Espanha', [5, 7]],\n",
    "['Italia', 'Espanha', [7,8]]]. Essa lista indica o número de faltas que\n",
    "cada time fez em cada jogo. Na lista acima, no jogo entre Brasil e\n",
    "Itália, o Brasil fez 10 faltas e a Itália fez 9.\n",
    "O programa deve imprimir na tela:\n",
    "- o total de faltas do campeonato\n",
    "- o time que fez mais faltas\n",
    "- o time que fez menos faltas"
   ]
  },
  {
   "cell_type": "code",
   "execution_count": null,
   "metadata": {},
   "outputs": [],
   "source": [
    "jogo_1 = ['Brasil', 'Italia', [10,9]]\n",
    "jogo_2 = ['Brasil', 'Espanha', [5,7]]\n",
    "jogo_3 = ['Italia', 'Espanha', [7,8]]\n",
    "\n",
    "faltas_total = sum(jogo_1[2] + jogo_2[2] + jogo_3[2])\n",
    "falta_brasil = jogo_1[2][0] + jogo_2[2][0]\n",
    "falta_italia = jogo_1[2][1] + jogo_3[2][0]\n",
    "falta_espanha =  jogo_2[2][1] + jogo_3[2][1]\n",
    "\n",
    "faltas = {\n",
    "    'Brasil': falta_brasil,\n",
    "    'Italia': falta_italia,\n",
    "    'Espanha': falta_espanha\n",
    "}\n",
    "\n",
    "mais_faltas = max(faltas.items())\n",
    "menos_faltas = min(faltas.items())\n",
    "\n",
    "print('Total de faltas', faltas_total)\n",
    "print('O time com mais faltas:{} \\nO time com menos faltas:{} \\n'.format(mais_faltas, menos_faltas))"
   ]
  },
  {
   "cell_type": "markdown",
   "metadata": {},
   "source": [
    "5) Escreva um programa que conta a quantidade de vogais em uma\n",
    "string e armazena tal quantidade em um dicionário, onde a chave é\n",
    "a vogal considerada."
   ]
  },
  {
   "cell_type": "code",
   "execution_count": null,
   "metadata": {},
   "outputs": [],
   "source": [
    "string = input('Escreva algo: ')\n",
    "\n",
    "dic={}\n",
    "smaior= string.upper()\n",
    "if (\"A\" in smaior):\n",
    "    dic['A']=smaior.count(\"A\")\n",
    "if (\"E\" in smaior):\n",
    "    dic['E']=smaior.count(\"E\")\n",
    "if (\"I\" in smaior):\n",
    "    dic['I']=smaior.count(\"I\")\n",
    "if (\"O\" in smaior):\n",
    "    dic['O']=smaior.count(\"O\")\n",
    "if (\"U\" in smaior):\n",
    "    dic['U']=smaior.count(\"U\")\n",
    "print(dic)"
   ]
  },
  {
   "cell_type": "code",
   "execution_count": null,
   "metadata": {},
   "outputs": [],
   "source": [
    " 6) Escreva um programa que lê̂ duas notas de vários alunos e\n",
    "armazena tais notas em um dicionário, onde a chave é o nome do\n",
    "aluno. A entrada de dados deve terminar quando for lida uma string\n",
    "vazia como nome. Escreva uma função que retorna a média do\n",
    "aluno, dado seu nome.\n",
    "\n",
    "\n"
   ]
  },
  {
   "cell_type": "code",
   "execution_count": 2,
   "metadata": {},
   "outputs": [
    {
     "name": "stdout",
     "output_type": "stream",
     "text": [
      "digite o nome do aluno: Joao\n",
      "Digite a primeira nota 5\n",
      "Digite a segunda nota 5\n",
      "digite o nome do aluno: \n",
      "Digite a primeira nota \n",
      "Digite a segunda nota \n",
      "{'Joao': ('5', '5'), '': ('', '')}\n",
      "Digite o nome do aluno procurado: Joao\n",
      "Notas do aluno Joao ('5', '5')\n"
     ]
    }
   ],
   "source": [
    "x = 'x'\n",
    "dic = {}\n",
    "while (x != ''):\n",
    "    nome = input('digite o nome do aluno: ')\n",
    "    nota_1 = input('Digite a primeira nota ')\n",
    "    nota_2 = input('Digite a segunda nota ')\n",
    "    t = (nota_1, nota_2)\n",
    "    dic[nome] = t\n",
    "    x = nome\n",
    "else:\n",
    "    print(dic)\n",
    "    \n",
    "aluno = input('Digite o nome do aluno procurado: ')\n",
    "print(\"Notas do aluno\", aluno, dic[aluno])\n",
    "\n",
    "\n",
    "\n",
    "\n",
    "\n"
   ]
  },
  {
   "cell_type": "code",
   "execution_count": null,
   "metadata": {},
   "outputs": [],
   "source": []
  }
 ],
 "metadata": {
  "kernelspec": {
   "display_name": "Python 3",
   "language": "python",
   "name": "python3"
  },
  "language_info": {
   "codemirror_mode": {
    "name": "ipython",
    "version": 3
   },
   "file_extension": ".py",
   "mimetype": "text/x-python",
   "name": "python",
   "nbconvert_exporter": "python",
   "pygments_lexer": "ipython3",
   "version": "3.6.5"
  }
 },
 "nbformat": 4,
 "nbformat_minor": 2
}
